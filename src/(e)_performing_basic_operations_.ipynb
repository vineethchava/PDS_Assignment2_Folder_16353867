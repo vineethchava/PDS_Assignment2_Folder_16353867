{
  "nbformat": 4,
  "nbformat_minor": 0,
  "metadata": {
    "colab": {
      "provenance": []
    },
    "kernelspec": {
      "name": "python3",
      "display_name": "Python 3"
    },
    "language_info": {
      "name": "python"
    }
  },
  "cells": [
    {
      "cell_type": "code",
      "execution_count": 22,
      "metadata": {
        "id": "EeTaY4jl9MsM"
      },
      "outputs": [],
      "source": [
        "import pandas as pd\n",
        "import datetime"
      ]
    },
    {
      "cell_type": "code",
      "source": [
        "df = pd.read_csv('/content/train (1).csv')\n"
      ],
      "metadata": {
        "id": "YwNNu4OpSqHw"
      },
      "execution_count": 23,
      "outputs": []
    },
    {
      "cell_type": "code",
      "source": [
        "# Step 1: Using Select()\n",
        "selected_df = df[['Name', 'Year', 'Kilometers_Driven', 'Fuel_Type', 'Transmission', 'Price']]\n",
        "print(\"\\n Step 1:Selected Columns:\\n\", selected_df.head())"
      ],
      "metadata": {
        "id": "4C97FaR4WGAe",
        "colab": {
          "base_uri": "https://localhost:8080/"
        },
        "outputId": "c4dd3ad7-2a35-40c6-d24a-3b744f27bbff"
      },
      "execution_count": 24,
      "outputs": [
        {
          "output_type": "stream",
          "name": "stdout",
          "text": [
            "\n",
            " Step 1:Selected Columns:\n",
            "                                Name  Year  Kilometers_Driven Fuel_Type  \\\n",
            "0  Hyundai Creta 1.6 CRDi SX Option  2015              41000    Diesel   \n",
            "1                      Honda Jazz V  2011              46000    Petrol   \n",
            "2                 Maruti Ertiga VDI  2012              87000    Diesel   \n",
            "3   Audi A4 New 2.0 TDI Multitronic  2013              40670    Diesel   \n",
            "4            Nissan Micra Diesel XV  2013              86999    Diesel   \n",
            "\n",
            "  Transmission  Price  \n",
            "0       Manual  12.50  \n",
            "1       Manual   4.50  \n",
            "2       Manual   6.00  \n",
            "3    Automatic  17.74  \n",
            "4       Manual   3.50  \n"
          ]
        }
      ]
    },
    {
      "cell_type": "code",
      "source": [
        "# Step 2: using() Filter\n",
        "filtered_df = selected_df[selected_df['Fuel_Type'] == 'Diesel']\n",
        "print(\"\\nStep 2:Filtered DataFrame (Fuel_Type = Diesel):\\n\", filtered_df.head())\n",
        ""
      ],
      "metadata": {
        "colab": {
          "base_uri": "https://localhost:8080/"
        },
        "id": "zGW_WWaBCD2f",
        "outputId": "ad419ffe-d820-4538-a434-e3a20bd200ed"
      },
      "execution_count": 25,
      "outputs": [
        {
          "output_type": "stream",
          "name": "stdout",
          "text": [
            "\n",
            "Step 2:Filtered DataFrame (Fuel_Type = Diesel):\n",
            "                                 Name  Year  Kilometers_Driven Fuel_Type  \\\n",
            "0   Hyundai Creta 1.6 CRDi SX Option  2015              41000    Diesel   \n",
            "2                  Maruti Ertiga VDI  2012              87000    Diesel   \n",
            "3    Audi A4 New 2.0 TDI Multitronic  2013              40670    Diesel   \n",
            "4             Nissan Micra Diesel XV  2013              86999    Diesel   \n",
            "5  Toyota Innova Crysta 2.8 GX AT 8S  2016              36000    Diesel   \n",
            "\n",
            "  Transmission  Price  \n",
            "0       Manual  12.50  \n",
            "2       Manual   6.00  \n",
            "3    Automatic  17.74  \n",
            "4       Manual   3.50  \n",
            "5    Automatic  17.50  \n"
          ]
        }
      ]
    },
    {
      "cell_type": "code",
      "source": [
        "# Step 3: using Rename()\n",
        "renamed_df = filtered_df.rename(columns={'Kilometers_Driven': 'Km_Driven'})\n",
        "print(\"\\nStep 3 :DataFrame with Renamed Column (Kilometers_Driven to Km_Driven):\\n\", renamed_df.head())\n"
      ],
      "metadata": {
        "colab": {
          "base_uri": "https://localhost:8080/"
        },
        "id": "3RAcw2d2CGQQ",
        "outputId": "b08631a4-8331-4a5a-bf7e-69c057064b92"
      },
      "execution_count": 26,
      "outputs": [
        {
          "output_type": "stream",
          "name": "stdout",
          "text": [
            "\n",
            "Step 3 :DataFrame with Renamed Column (Kilometers_Driven to Km_Driven):\n",
            "                                 Name  Year  Km_Driven Fuel_Type Transmission  \\\n",
            "0   Hyundai Creta 1.6 CRDi SX Option  2015      41000    Diesel       Manual   \n",
            "2                  Maruti Ertiga VDI  2012      87000    Diesel       Manual   \n",
            "3    Audi A4 New 2.0 TDI Multitronic  2013      40670    Diesel    Automatic   \n",
            "4             Nissan Micra Diesel XV  2013      86999    Diesel       Manual   \n",
            "5  Toyota Innova Crysta 2.8 GX AT 8S  2016      36000    Diesel    Automatic   \n",
            "\n",
            "   Price  \n",
            "0  12.50  \n",
            "2   6.00  \n",
            "3  17.74  \n",
            "4   3.50  \n",
            "5  17.50  \n"
          ]
        }
      ]
    },
    {
      "cell_type": "code",
      "source": [
        "#step 4: using assign()\n",
        "kmpl_to_mpg = 2.35215\n",
        "\n",
        "\n",
        "df = df.assign(\n",
        "    Fuel_Efficiency_mpg=lambda x: pd.to_numeric(x['Mileage'].str.split().str[0], errors='coerce') * kmpl_to_mpg\n",
        ")\n",
        "\n",
        "\n",
        "\n",
        "print(\"\\nStep 4: DataFrame with New Column 'Fuel_Efficiency_mpg' using assign:\\n\", df[['Name', 'Mileage', 'Fuel_Efficiency_mpg']].head())"
      ],
      "metadata": {
        "colab": {
          "base_uri": "https://localhost:8080/"
        },
        "id": "6_6RkgTnCImC",
        "outputId": "98d8d1a4-da20-4461-db40-960d8b7f73e8"
      },
      "execution_count": 27,
      "outputs": [
        {
          "output_type": "stream",
          "name": "stdout",
          "text": [
            "\n",
            "Step 4: DataFrame with New Column 'Fuel_Efficiency_mpg' using assign:\n",
            "                                Name     Mileage  Fuel_Efficiency_mpg\n",
            "0  Hyundai Creta 1.6 CRDi SX Option  19.67 kmpl            46.266791\n",
            "1                      Honda Jazz V    13 km/kg            30.577950\n",
            "2                 Maruti Ertiga VDI  20.77 kmpl            48.854155\n",
            "3   Audi A4 New 2.0 TDI Multitronic   15.2 kmpl            35.752680\n",
            "4            Nissan Micra Diesel XV  23.08 kmpl            54.287622\n"
          ]
        }
      ]
    },
    {
      "cell_type": "code",
      "source": [
        "#Step 5: using arrange() instead of the mutate() function in R\n",
        "arranged_df = renamed_df.sort_values(by='Price', ascending=False)\n",
        "print(\"\\nStep 5: DataFrame Arranged by Price (Descending):\\n\", arranged_df.head())"
      ],
      "metadata": {
        "colab": {
          "base_uri": "https://localhost:8080/"
        },
        "id": "F8flo-bhCSUf",
        "outputId": "18e8de31-5a8e-4ec4-8723-2b913f26b75f"
      },
      "execution_count": 28,
      "outputs": [
        {
          "output_type": "stream",
          "name": "stdout",
          "text": [
            "\n",
            "Step 5: DataFrame Arranged by Price (Descending):\n",
            "                                              Name  Year  Km_Driven Fuel_Type  \\\n",
            "3952  Land Rover Range Rover 3.0 Diesel LWB Vogue  2017      25000    Diesel   \n",
            "1457              Land Rover Range Rover Sport SE  2019      26013    Diesel   \n",
            "5380                    BMW X6 xDrive 40d M Sport  2015      97003    Diesel   \n",
            "2347                     Jaguar XJ 3.0L Portfolio  2016      12000    Diesel   \n",
            "1830         Mercedes-Benz GLS 350d Grand Edition  2018       6000    Diesel   \n",
            "\n",
            "     Transmission   Price  \n",
            "3952    Automatic  160.00  \n",
            "1457    Automatic   97.07  \n",
            "5380    Automatic   85.00  \n",
            "2347    Automatic   79.00  \n",
            "1830    Automatic   79.00  \n"
          ]
        }
      ]
    },
    {
      "cell_type": "code",
      "source": [
        "#step 6: using groupby()\n",
        "summarized_df = df.groupby('Fuel_Type').agg(\n",
        "    Average_Price=('Price', 'mean'),\n",
        "    Max_Car_Age=('Year', lambda x: current_year - x.min())\n",
        ").reset_index()\n",
        "print(\"\\nStep 6: Summarized DataFrame (Average Price and Max Car Age by Fuel_Type):\\n\", summarized_df)"
      ],
      "metadata": {
        "colab": {
          "base_uri": "https://localhost:8080/"
        },
        "id": "B7Z0z7CNJVvS",
        "outputId": "5bac6a74-02dd-43f5-ecc6-c37bef411cfb"
      },
      "execution_count": 29,
      "outputs": [
        {
          "output_type": "stream",
          "name": "stdout",
          "text": [
            "\n",
            "Step 6: Summarized DataFrame (Average Price and Max Car Age by Fuel_Type):\n",
            "   Fuel_Type  Average_Price  Max_Car_Age\n",
            "0    Diesel      12.960686           26\n",
            "1  Electric      12.875000           13\n",
            "2    Petrol       5.756688           26\n"
          ]
        }
      ]
    },
    {
      "cell_type": "code",
      "source": [],
      "metadata": {
        "id": "Rwf540FgJhMd"
      },
      "execution_count": 29,
      "outputs": []
    }
  ]
}